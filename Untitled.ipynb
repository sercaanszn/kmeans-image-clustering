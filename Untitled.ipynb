{
 "cells": [
  {
   "cell_type": "code",
   "execution_count": 1,
   "id": "8e0ef8bf",
   "metadata": {},
   "outputs": [],
   "source": [
    "import numpy as np\n",
    "import matplotlib.pyplot as plt\n",
    "from sklearn.cluster import KMeans\n",
    "from sklearn.metrics import pairwise_distances_argmin\n",
    "from sklearn.datasets import load_sample_image\n",
    "from sklearn.utils import shuffle\n",
    "from time import time\n",
    "import glob\n",
    "import cv2"
   ]
  },
  {
   "cell_type": "code",
   "execution_count": 2,
   "id": "2f29bbb0",
   "metadata": {},
   "outputs": [],
   "source": [
    "n_colors = 32\n",
    "elephant = cv2.imread(\"all/elephant (1).jpg\")\n",
    "\n",
    "images = [cv2.imread(file) for file in glob.glob(\"all/*jpg\")]"
   ]
  },
  {
   "cell_type": "markdown",
   "id": "125d7254",
   "metadata": {},
   "source": [
    "# Quantization of colors"
   ]
  },
  {
   "cell_type": "code",
   "execution_count": null,
   "id": "e40b9ba2",
   "metadata": {},
   "outputs": [],
   "source": [
    "def quant(img,k):\n",
    "    data = np.float32(img).reshape(-1,3)\n",
    "    criteria = (cv2.TERM_CRITERIA_EPS + cv2.TERM_CRITERIA_MAX_ITER,20,1.0)\n",
    "    ret,label,center = cv2.kmeans(data, k , None, criteria,10,cv2.KMEANS_RANDOM_CENTERS)\n",
    "    center = np.uint8(center)\n",
    "    result = center[label.flatten()]\n",
    "    result = result.reshape(img.shape)\n",
    "    return result\n",
    "\n",
    "for n in range (0,140):\n",
    "    images[n] = quant(images[n],n_colors)"
   ]
  },
  {
   "cell_type": "code",
   "execution_count": null,
   "id": "59d5a05f",
   "metadata": {},
   "outputs": [],
   "source": [
    "for n in range (0,140):\n",
    "    images[n] = quant(images[n],n_colors)"
   ]
  },
  {
   "cell_type": "code",
   "execution_count": null,
   "id": "b4539299",
   "metadata": {},
   "outputs": [],
   "source": [
    "plt.imshow(cv2.cvtColor(elephant, cv2.COLOR_BGR2RGB))\n",
    "plt.title(\"Original Sample Image\")"
   ]
  },
  {
   "cell_type": "code",
   "execution_count": null,
   "id": "a85ec65d",
   "metadata": {},
   "outputs": [],
   "source": [
    "plt.imshow(cv2.cvtColor(images[0], cv2.COLOR_BGR2RGB))\n",
    "plt.title(\"Quantized Sample Image\")"
   ]
  },
  {
   "cell_type": "markdown",
   "id": "976c742b",
   "metadata": {},
   "source": [
    "# Histograms for Each Color"
   ]
  },
  {
   "cell_type": "code",
   "execution_count": null,
   "id": "f22638e7",
   "metadata": {},
   "outputs": [],
   "source": [
    "bhists=[]\n",
    "ghists=[]\n",
    "rhists=[]\n",
    "for i in range(0,140):\n",
    "    bhists.append(cv2.calcHist([images[i]], [0], None, [32], [0,256]))\n",
    "    ghists.append(cv2.calcHist([images[i]], [1], None, [32], [0,256]))\n",
    "    rhists.append(cv2.calcHist([images[i]], [2], None, [32], [0,256]))\n",
    "\n",
    "\n",
    "plt.plot(ghists[0])\n",
    "plt.title(\"Sample Image G Histogram\")\n",
    "\n",
    "print(len(bhists[0]))\n",
    "print(len(ghists[0]))\n",
    "print(len(rhists[0]))\n",
    "\n",
    "#print(ghists[0])\n",
    "\n",
    "#plt.show"
   ]
  },
  {
   "cell_type": "markdown",
   "id": "00141d02",
   "metadata": {},
   "source": [
    "# Normalization"
   ]
  },
  {
   "cell_type": "code",
   "execution_count": null,
   "id": "ad307161",
   "metadata": {},
   "outputs": [],
   "source": [
    "\n",
    "for i in range(0,140):\n",
    "    img_pixels = images[i].size/3\n",
    "    bhists[i] = bhists[i] / (img_pixels)\n",
    "    ghists[i] = ghists[i] /(img_pixels)\n",
    "    rhists[i] = rhists[i] /(img_pixels)\n",
    "    \n",
    "    \n",
    "plt.plot(ghists[0])\n",
    "plt.title(\"Normalized G Histogram of Sample Image\")  "
   ]
  },
  {
   "cell_type": "markdown",
   "id": "bc24949a",
   "metadata": {},
   "source": [
    "# Custom K means 1"
   ]
  },
  {
   "cell_type": "markdown",
   "id": "267be0e8",
   "metadata": {},
   "source": [
    "## 1. Set k and Centroids"
   ]
  },
  {
   "cell_type": "code",
   "execution_count": 324,
   "id": "32e6db6d",
   "metadata": {},
   "outputs": [
    {
     "name": "stdout",
     "output_type": "stream",
     "text": [
      "133\n",
      "7\n"
     ]
    }
   ],
   "source": [
    "import random\n",
    "k = 7 # of centroids\n",
    "\n",
    "all_img = list(zip(bhists, ghists, rhists)) #all images' histograms with order.\n",
    "\n",
    "centroids = []\n",
    "for i in range (k):\n",
    "    a = random.randint(0, 139)\n",
    "    centroids.append(all_img[a])\n",
    "    del all_img[a]\n",
    "     \n",
    "print(len(all_img))   \n",
    "print(len(centroids))\n",
    "\n",
    "def get_distance(p, q):\n",
    "    \"\"\" \n",
    "    aynı boyutlu\n",
    "    p ve q noktalarının arasındaki öklid uzaklık\n",
    "    \"\"\"\n",
    "    # sum of squared difference between coordinates\n",
    "    s_sq_difference = 0\n",
    "    for p_i,q_i in zip(p,q):\n",
    "        s_sq_difference += (p_i - q_i)**2\n",
    "    \n",
    "    # take sq root of sum of squared difference\n",
    "    distance = s_sq_difference**0.5\n",
    "    return distance\n"
   ]
  },
  {
   "cell_type": "code",
   "execution_count": 325,
   "id": "dd13a3d0",
   "metadata": {},
   "outputs": [
    {
     "name": "stdout",
     "output_type": "stream",
     "text": [
      "(133, 3, 32, 1)\n",
      "(7, 3, 32, 1)\n",
      "(7, 96)\n",
      "Cluster0 elements count:  0\n",
      "Cluster1 elements count:  7\n",
      "Cluster2 elements count:  28\n",
      "Cluster3 elements count:  20\n",
      "Cluster4 elements count:  45\n",
      "Cluster5 elements count:  25\n",
      "Cluster6 elements count:  8\n"
     ]
    }
   ],
   "source": [
    "cluster0 = []\n",
    "cluster1 = []\n",
    "cluster2 = []\n",
    "cluster3 = []\n",
    "cluster4 = []\n",
    "cluster5 = []\n",
    "cluster6 = []\n",
    "\n",
    "\n",
    "X = np.array(all_img)\n",
    "print(X.shape)\n",
    "X = X.reshape(len(all_img),3*32*1)\n",
    "\n",
    "C = np.array(centroids)\n",
    "print(C.shape)\n",
    "C = C.reshape(k,3*32*1)\n",
    "print(C.shape)\n",
    "\n",
    "\n",
    "for i in range(len(all_img)):\n",
    "    dist = [] \n",
    "    for j in range(k):\n",
    "        d = get_distance(X[i], centroids[j])\n",
    "        a = sum(d) / len(d)\n",
    "        dist.append(a)     \n",
    "    if (dist.index(min(dist)) == 0):\n",
    "        cluster0.append(X[i])\n",
    "\n",
    "    elif (dist.index(min(dist)) == 1):\n",
    "        cluster1.append(X[i])\n",
    "\n",
    "    elif (dist.index(min(dist)) == 2):\n",
    "        cluster2.append(X[i])\n",
    "        \n",
    "    elif (dist.index(min(dist)) == 3):\n",
    "        cluster3.append(X[i])\n",
    "        \n",
    "    elif (dist.index(min(dist)) == 4):\n",
    "        cluster4.append(X[i])\n",
    "        \n",
    "    elif (dist.index(min(dist)) == 5):\n",
    "        cluster5.append(X[i])\n",
    "    \n",
    "    elif (dist.index(min(dist)) == 6):\n",
    "        cluster6.append(X[i])\n",
    "        \n",
    "\n",
    "\"\"\"\n",
    "print(min(dist))  \n",
    "print(dist.index(min(dist)))\n",
    "\"\"\"\n",
    "print(\"Cluster0 elements count: \", len(cluster0))\n",
    "print(\"Cluster1 elements count: \", len(cluster1))\n",
    "print(\"Cluster2 elements count: \", len(cluster2))\n",
    "print(\"Cluster3 elements count: \", len(cluster3))\n",
    "print(\"Cluster4 elements count: \", len(cluster4))\n",
    "print(\"Cluster5 elements count: \", len(cluster5))\n",
    "print(\"Cluster6 elements count: \", len(cluster6))\n",
    "\n",
    "\n",
    "#print(b,g,r)\n",
    "\n",
    "#a = (b+g+r)/3 \n",
    "\n",
    "#print(a)"
   ]
  },
  {
   "cell_type": "markdown",
   "id": "ccd90cd9",
   "metadata": {},
   "source": [
    "# Custom K means 2"
   ]
  },
  {
   "cell_type": "code",
   "execution_count": 334,
   "id": "26daab7a",
   "metadata": {},
   "outputs": [],
   "source": [
    "class K_Means:\n",
    "    def __init__(self, k=3, tol=0.001, max_iter=10):\n",
    "        self.k = k\n",
    "        self.tol = tol\n",
    "        self.max_iter = max_iter\n",
    "\n",
    "    def fit(self,data):\n",
    "\n",
    "        self.centroids = {}\n",
    "\n",
    "        for i in range(self.k): # set centroids\n",
    "            self.centroids[i] = data[i]\n",
    "\n",
    "        for i in range(self.max_iter):\n",
    "            self.classifications = {}\n",
    "\n",
    "            for i in range(self.k):\n",
    "                self.classifications[i] = []\n",
    "\n",
    "            for featureset in data: #distance measure\n",
    "                distances = [np.linalg.norm(featureset-self.centroids[centroid]) for centroid in self.centroids]\n",
    "                classification = distances.index(min(distances))\n",
    "                self.classifications[classification].append(featureset)\n",
    "\n",
    "            prev_centroids = dict(self.centroids)\n",
    "\n",
    "            for classification in self.classifications:\n",
    "                self.centroids[classification] = np.average(self.classifications[classification],axis=0)\n",
    "\n",
    "            optimized = True\n",
    "\n",
    "            for c in self.centroids:  # centroidi tolerans ile yenile\n",
    "                original_centroid = prev_centroids[c]\n",
    "                current_centroid = self.centroids[c]\n",
    "                if np.sum((current_centroid-original_centroid)/original_centroid*100.0) > self.tol:\n",
    "                    print(np.sum((current_centroid-original_centroid)/original_centroid*100.0))\n",
    "                    optimized = False\n",
    "\n",
    "            if optimized:\n",
    "                break\n",
    "\n",
    "    def predict(self,data):\n",
    "        distances = [np.linalg.norm(data-self.centroids[centroid]) for centroid in self.centroids]\n",
    "        classification = distances.index(min(distances))\n",
    "        return classification"
   ]
  },
  {
   "cell_type": "code",
   "execution_count": 335,
   "id": "179d02f4",
   "metadata": {},
   "outputs": [],
   "source": [
    "colors = 10*[\"g\",\"r\",\"c\",\"b\",\"k\"]\n",
    "\n",
    "X[X == 0] = 0.0001 # replace zeros\n"
   ]
  },
  {
   "cell_type": "code",
   "execution_count": 336,
   "id": "fe62f177",
   "metadata": {},
   "outputs": [
    {
     "name": "stdout",
     "output_type": "stream",
     "text": [
      "1104994.5\n",
      "1032341.75\n",
      "1268988.6\n",
      "200.58527\n",
      "18470.465\n",
      "4176.068\n",
      "1386.3223\n",
      "2535.7573\n",
      "1141.4062\n",
      "170.90121\n",
      "4249.5073\n"
     ]
    },
    {
     "data": {
      "image/png": "[encoded data removed]",
      "text/plain": [
       "<Figure size 432x288 with 1 Axes>"
      ]
     },
     "metadata": {
      "needs_background": "light"
     },
     "output_type": "display_data"
    },
    {
     "name": "stdout",
     "output_type": "stream",
     "text": [
      "# of elements in cluster 0 :  97\n",
      "# of elements in cluster 1 :  18\n",
      "# of elements in cluster 2 :  18\n"
     ]
    }
   ],
   "source": [
    "clf = K_Means()\n",
    "clf.fit(X)\n",
    "\n",
    "\n",
    "for classification in clf.classifications:\n",
    "    color = colors[classification]\n",
    "    for featureset in clf.classifications[classification]:\n",
    "        plt.scatter(featureset[0], featureset[1], marker=\"x\", color=color, s=150, linewidths=5)\n",
    "for centroid in clf.centroids:\n",
    "    plt.scatter(clf.centroids[centroid][0], clf.centroids[centroid][1],label='centroids',\n",
    "                marker=\"o\", color=\"b\", s=150, linewidths=5)        \n",
    "plt.show()\n",
    "\n",
    "\n",
    "for i in range(len(clf.classifications)):\n",
    "    print(\"# of elements in cluster\",i, \": \",len(clf.classifications[i]))\n"
   ]
  },
  {
   "cell_type": "markdown",
   "id": "a20fc97e",
   "metadata": {},
   "source": [
    "# SKLearn K means"
   ]
  },
  {
   "cell_type": "code",
   "execution_count": 362,
   "id": "a266f188",
   "metadata": {},
   "outputs": [],
   "source": [
    "from sklearn.cluster import KMeans\n",
    "km = KMeans(\n",
    "    n_clusters=3, init='random',\n",
    "     max_iter=10, \n",
    "    tol=1e-04, random_state=0\n",
    ")\n",
    "y_km = km.fit_predict(X)"
   ]
  },
  {
   "cell_type": "code",
   "execution_count": 363,
   "id": "d95af1c7",
   "metadata": {},
   "outputs": [
    {
     "data": {
      "image/png": "[encoded data removed]",
      "text/plain": [
       "<Figure size 432x288 with 1 Axes>"
      ]
     },
     "metadata": {
      "needs_background": "light"
     },
     "output_type": "display_data"
    }
   ],
   "source": [
    "plt.scatter(\n",
    "    X[y_km == 0, 0], X[y_km == 0, 1],\n",
    "    s=50, c='lightgreen',\n",
    "    marker='s', edgecolor='black',\n",
    "    label='cluster 1'\n",
    ")\n",
    "\n",
    "plt.scatter(\n",
    "    X[y_km == 1, 0], X[y_km == 1, 1],\n",
    "    s=50, c='orange',\n",
    "    marker='o', edgecolor='black',\n",
    "    label='cluster 2'\n",
    ")\n",
    "\n",
    "plt.scatter(\n",
    "    X[y_km == 2, 0], X[y_km == 2, 1],\n",
    "    s=50, c='lightblue',\n",
    "    marker='v', edgecolor='black',\n",
    "    label='cluster 3'\n",
    ")\n",
    "\n",
    "# plot the centroids\n",
    "plt.scatter(\n",
    "    km.cluster_centers_[:, 0], km.cluster_centers_[:, 1],\n",
    "    s=250, marker='*',\n",
    "    c='red', edgecolor='black',\n",
    "    label='centroids'\n",
    ")\n",
    "plt.legend(scatterpoints=1)\n",
    "plt.grid()\n",
    "plt.show()"
   ]
  },
  {
   "cell_type": "code",
   "execution_count": 364,
   "id": "f545930e",
   "metadata": {},
   "outputs": [
    {
     "name": "stdout",
     "output_type": "stream",
     "text": [
      "# of elements in Cluster0 :  106\n",
      "# of elements in Cluster1 :  18\n",
      "# of elements in Cluster2 :  9\n"
     ]
    }
   ],
   "source": [
    "print(\"# of elements in Cluster0 : \",len(X[y_km == 0, 0]))\n",
    "print(\"# of elements in Cluster1 : \",len(X[y_km == 1, 0]))\n",
    "print(\"# of elements in Cluster2 : \",len(X[y_km == 2, 0]))\n",
    "\n"
   ]
  },
  {
   "cell_type": "code",
   "execution_count": 365,
   "id": "66f09485",
   "metadata": {},
   "outputs": [],
   "source": [
    "from sklearn.cluster import KMeans\n",
    "km = KMeans(\n",
    "    n_clusters=5, init='random',\n",
    "    max_iter=10, \n",
    "    tol=1e-04, random_state=0\n",
    ")\n",
    "y_km = km.fit_predict(X)"
   ]
  },
  {
   "cell_type": "code",
   "execution_count": 366,
   "id": "d2c3eb7f",
   "metadata": {},
   "outputs": [
    {
     "name": "stderr",
     "output_type": "stream",
     "text": [
      "C:\\Users\\Public\\Documents\\Wondershare\\CreatorTemp/ipykernel_165392/760719502.py:29: UserWarning: You passed a edgecolor/edgecolors ('black') for an unfilled marker ('x').  Matplotlib is ignoring the edgecolor in favor of the facecolor.  This behavior may change in the future.\n",
      "  plt.scatter(\n"
     ]
    },
    {
     "data": {
      "image/png": "[encoded data removed]",
      "text/plain": [
       "<Figure size 432x288 with 1 Axes>"
      ]
     },
     "metadata": {
      "needs_background": "light"
     },
     "output_type": "display_data"
    }
   ],
   "source": [
    "plt.scatter(\n",
    "    X[y_km == 0, 0], X[y_km == 0, 1],\n",
    "    s=50, c='lightgreen',\n",
    "    marker='s', edgecolor='black',\n",
    "    label='cluster 1'\n",
    ")\n",
    "\n",
    "plt.scatter(\n",
    "    X[y_km == 1, 0], X[y_km == 1, 1],\n",
    "    s=50, c='orange',\n",
    "    marker='o', edgecolor='black',\n",
    "    label='cluster 2'\n",
    ")\n",
    "\n",
    "plt.scatter(\n",
    "    X[y_km == 2, 0], X[y_km == 2, 1],\n",
    "    s=50, c='lightblue',\n",
    "    marker='v', edgecolor='black',\n",
    "    label='cluster 3'\n",
    ")\n",
    "\n",
    "plt.scatter(\n",
    "    X[y_km == 3, 0], X[y_km == 3, 1],\n",
    "    s=50, c='red',\n",
    "    marker='<', edgecolor='black',\n",
    "    label='cluster 4'\n",
    ")\n",
    "\n",
    "plt.scatter(\n",
    "    X[y_km == 4, 0], X[y_km == 4, 1],\n",
    "    s=50, c='orange',\n",
    "    marker='x', edgecolor='black',\n",
    "    label='cluster 5'\n",
    ")\n",
    "\n",
    "\n",
    "# plot the centroids\n",
    "plt.scatter(\n",
    "    km.cluster_centers_[:, 0], km.cluster_centers_[:, 1],\n",
    "    s=250, marker='*',\n",
    "    c='red', edgecolor='black',\n",
    "    label='centroids'\n",
    ")\n",
    "plt.legend(scatterpoints=1)\n",
    "plt.grid()\n",
    "plt.show()"
   ]
  },
  {
   "cell_type": "code",
   "execution_count": 367,
   "id": "3ce9caf6",
   "metadata": {},
   "outputs": [
    {
     "name": "stdout",
     "output_type": "stream",
     "text": [
      "# of elements in Cluster0 :  9\n",
      "# of elements in Cluster1 :  18\n",
      "# of elements in Cluster2 :  27\n",
      "# of elements in Cluster3 :  58\n",
      "# of elements in Cluster4 :  21\n"
     ]
    }
   ],
   "source": [
    "print(\"# of elements in Cluster0 : \", len(X[y_km == 0, 0]))\n",
    "print(\"# of elements in Cluster1 : \",len(X[y_km == 1, 0]))\n",
    "print(\"# of elements in Cluster2 : \",len(X[y_km == 2, 0]))\n",
    "print(\"# of elements in Cluster3 : \",len(X[y_km == 3, 0]))\n",
    "print(\"# of elements in Cluster4 : \",len(X[y_km == 4, 0]))"
   ]
  },
  {
   "cell_type": "code",
   "execution_count": 368,
   "id": "a102f9c7",
   "metadata": {},
   "outputs": [],
   "source": [
    "from sklearn.cluster import KMeans\n",
    "km = KMeans(\n",
    "    n_clusters=7, init='random',\n",
    "    max_iter=10, \n",
    "    tol=1e-04, random_state=0\n",
    ")\n",
    "y_km = km.fit_predict(X)"
   ]
  },
  {
   "cell_type": "code",
   "execution_count": 369,
   "id": "c46a767d",
   "metadata": {},
   "outputs": [
    {
     "name": "stderr",
     "output_type": "stream",
     "text": [
      "C:\\Users\\Public\\Documents\\Wondershare\\CreatorTemp/ipykernel_165392/3620063721.py:29: UserWarning: You passed a edgecolor/edgecolors ('black') for an unfilled marker ('x').  Matplotlib is ignoring the edgecolor in favor of the facecolor.  This behavior may change in the future.\n",
      "  plt.scatter(\n"
     ]
    },
    {
     "data": {
      "image/png": "[encoded data removed]",
      "text/plain": [
       "<Figure size 432x288 with 1 Axes>"
      ]
     },
     "metadata": {
      "needs_background": "light"
     },
     "output_type": "display_data"
    }
   ],
   "source": [
    "plt.scatter(\n",
    "    X[y_km == 0, 0], X[y_km == 0, 1],\n",
    "    s=50, c='lightgreen',\n",
    "    marker='s', edgecolor='black',\n",
    "    label='cluster 1'\n",
    ")\n",
    "\n",
    "plt.scatter(\n",
    "    X[y_km == 1, 0], X[y_km == 1, 1],\n",
    "    s=50, c='orange',\n",
    "    marker='o', edgecolor='black',\n",
    "    label='cluster 2'\n",
    ")\n",
    "\n",
    "plt.scatter(\n",
    "    X[y_km == 2, 0], X[y_km == 2, 1],\n",
    "    s=50, c='lightblue',\n",
    "    marker='v', edgecolor='black',\n",
    "    label='cluster 3'\n",
    ")\n",
    "\n",
    "plt.scatter(\n",
    "    X[y_km == 3, 0], X[y_km == 3, 1],\n",
    "    s=50, c='red',\n",
    "    marker='<', edgecolor='black',\n",
    "    label='cluster 4'\n",
    ")\n",
    "\n",
    "plt.scatter(\n",
    "    X[y_km == 4, 0], X[y_km == 4, 1],\n",
    "    s=50, c='orange',\n",
    "    marker='x', edgecolor='black',\n",
    "    label='cluster 5'\n",
    ")\n",
    "plt.scatter(\n",
    "    X[y_km == 5, 0], X[y_km == 5, 1],\n",
    "    s=50, c='orange',\n",
    "    marker='>', edgecolor='black',\n",
    "    label='cluster 6'\n",
    ")\n",
    "plt.scatter(\n",
    "    X[y_km == 6, 0], X[y_km == 6, 1],\n",
    "    s=50, c='blue',\n",
    "    marker='o', edgecolor='black',\n",
    "    label='cluster 7'\n",
    ")\n",
    "\n",
    "\n",
    "# plot the centroids\n",
    "plt.scatter(\n",
    "    km.cluster_centers_[:, 0], km.cluster_centers_[:, 1],\n",
    "    s=250, marker='*',\n",
    "    c='red', edgecolor='black',\n",
    "    label='centroids'\n",
    ")\n",
    "plt.legend(scatterpoints=1)\n",
    "plt.grid()\n",
    "plt.show()"
   ]
  },
  {
   "cell_type": "code",
   "execution_count": 370,
   "id": "df9b3224",
   "metadata": {},
   "outputs": [
    {
     "name": "stdout",
     "output_type": "stream",
     "text": [
      "# of elements in Cluster0 :  2\n",
      "# of elements in Cluster1 :  9\n",
      "# of elements in Cluster2 :  18\n",
      "# of elements in Cluster3 :  24\n",
      "# of elements in Cluster4 :  21\n",
      "# of elements in Cluster5 :  18\n",
      "# of elements in Cluster6 :  41\n"
     ]
    }
   ],
   "source": [
    "print(\"# of elements in Cluster0 : \",len(X[y_km == 0, 0]))\n",
    "print(\"# of elements in Cluster1 : \",len(X[y_km == 1, 0]))\n",
    "print(\"# of elements in Cluster2 : \",len(X[y_km == 2, 0]))\n",
    "print(\"# of elements in Cluster3 : \",len(X[y_km == 3, 0]))\n",
    "print(\"# of elements in Cluster4 : \",len(X[y_km == 4, 0]))\n",
    "print(\"# of elements in Cluster5 : \",len(X[y_km == 5, 0]))\n",
    "print(\"# of elements in Cluster6 : \",len(X[y_km == 6, 0]))"
   ]
  },
  {
   "cell_type": "code",
   "execution_count": null,
   "id": "9aa3d59b",
   "metadata": {},
   "outputs": [],
   "source": []
  },
  {
   "cell_type": "code",
   "execution_count": null,
   "id": "c161c05a",
   "metadata": {},
   "outputs": [],
   "source": []
  }
 ],
 "metadata": {
  "kernelspec": {
   "display_name": "Python 3 (ipykernel)",
   "language": "python",
   "name": "python3"
  },
  "language_info": {
   "codemirror_mode": {
    "name": "ipython",
    "version": 3
   },
   "file_extension": ".py",
   "mimetype": "text/x-python",
   "name": "python",
   "nbconvert_exporter": "python",
   "pygments_lexer": "ipython3",
   "version": "3.9.7"
  }
 },
 "nbformat": 4,
 "nbformat_minor": 5
}
